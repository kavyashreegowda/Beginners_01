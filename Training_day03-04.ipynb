{
 "cells": [
  {
   "cell_type": "code",
   "execution_count": 5,
   "metadata": {},
   "outputs": [
    {
     "data": {
      "text/plain": [
       "3"
      ]
     },
     "execution_count": 5,
     "metadata": {},
     "output_type": "execute_result"
    }
   ],
   "source": [
    "#Questions: Add two numbers using functions.\n",
    "#Pass only one variable to the function.\n",
    "\n",
    "def func(a=0,b=0):\n",
    "    return(a+b)\n",
    "\n",
    "func(3)"
   ]
  },
  {
   "cell_type": "code",
   "execution_count": 7,
   "metadata": {},
   "outputs": [
    {
     "data": {
      "text/plain": [
       "list"
      ]
     },
     "execution_count": 7,
     "metadata": {},
     "output_type": "execute_result"
    }
   ],
   "source": [
    "\n",
    "#Empty list\n",
    "\n",
    "my_list = []\n",
    "type(my_list)\n"
   ]
  },
  {
   "cell_type": "code",
   "execution_count": 15,
   "metadata": {},
   "outputs": [
    {
     "name": "stdout",
     "output_type": "stream",
     "text": [
      "['red', 'green']\n",
      "['green']\n",
      "green\n"
     ]
    }
   ],
   "source": [
    "colors = ['red', 'green']\n",
    "scores = [ 1,2]\n",
    "my_list = [ 'one', 33, 44 ]\n",
    "\n",
    "#read\n",
    "print(colors)\n",
    "\n",
    "#slicing\n",
    "print(colors[1:2])\n",
    "\n",
    "#index base print\n",
    "print(colors[1])"
   ]
  },
  {
   "cell_type": "code",
   "execution_count": 16,
   "metadata": {},
   "outputs": [
    {
     "data": {
      "text/plain": [
       "[0, 2, 4]"
      ]
     },
     "execution_count": 16,
     "metadata": {},
     "output_type": "execute_result"
    }
   ],
   "source": [
    "# list all even numbers from 1 to 10\n",
    "\n",
    "def even_num(num):\n",
    "    list_op = []\n",
    "    \n",
    "    for i in range(0,num):\n",
    "        if i%2 == 0:\n",
    "            list_op.append(i)\n",
    "    return list_op\n",
    "\n",
    "\n",
    "even_num(5)"
   ]
  },
  {
   "cell_type": "code",
   "execution_count": 17,
   "metadata": {},
   "outputs": [],
   "source": [
    "#Empty dict\n",
    "d = {}\n",
    "d = dict()"
   ]
  },
  {
   "cell_type": "code",
   "execution_count": 25,
   "metadata": {},
   "outputs": [
    {
     "name": "stdout",
     "output_type": "stream",
     "text": [
      "dict_keys(['a', 'b'])\n",
      "dict_values([1, 2])\n",
      "keys : a and the value is : 1\n",
      "keys : b and the value is : 2\n"
     ]
    }
   ],
   "source": [
    "d = { 'a': 1, 'b': 2 }\n",
    "\n",
    "# print keys\n",
    "print(d.keys())\n",
    "\n",
    "#print values\n",
    "print(d.values())\n",
    "\n",
    "#print both\n",
    "for key,value in d.items():\n",
    "    print(f\"keys : {key} and the value is : {value}\")"
   ]
  },
  {
   "cell_type": "code",
   "execution_count": 27,
   "metadata": {},
   "outputs": [
    {
     "data": {
      "text/plain": [
       "set"
      ]
     },
     "execution_count": 27,
     "metadata": {},
     "output_type": "execute_result"
    }
   ],
   "source": [
    "a = set()\n",
    "type(a)"
   ]
  },
  {
   "cell_type": "code",
   "execution_count": 39,
   "metadata": {},
   "outputs": [
    {
     "name": "stdout",
     "output_type": "stream",
     "text": [
      "list has duplicates\n"
     ]
    }
   ],
   "source": [
    "#Check the list has duplicate elements or not !\n",
    "ip_list=[1,1,2,3]\n",
    "def check_dup(ip_list):\n",
    "    len_ip_list=len(ip_list)\n",
    "    set_ip_list=set(ip_list)\n",
    "    len_set_list=len(set_ip_list)\n",
    "    if len_ip_list != len_set_list:\n",
    "        print(\"list has duplicates\")\n",
    "    else:\n",
    "        print(\"list doesn't have duplicates\")\n",
    "            \n",
    "        \n",
    "check_dup([1,3,1,2])"
   ]
  },
  {
   "cell_type": "code",
   "execution_count": 51,
   "metadata": {},
   "outputs": [
    {
     "ename": "UnicodeDecodeError",
     "evalue": "'charmap' codec can't decode byte 0x81 in position 22: character maps to <undefined>",
     "output_type": "error",
     "traceback": [
      "\u001b[1;31m---------------------------------------------------------------------------\u001b[0m",
      "\u001b[1;31mUnicodeDecodeError\u001b[0m                        Traceback (most recent call last)",
      "\u001b[1;32m<ipython-input-51-657669a56a2c>\u001b[0m in \u001b[0;36m<module>\u001b[1;34m()\u001b[0m\n\u001b[0;32m      9\u001b[0m \u001b[0mc3\u001b[0m \u001b[1;33m=\u001b[0m \u001b[0mcsv\u001b[0m\u001b[1;33m.\u001b[0m\u001b[0mwriter\u001b[0m\u001b[1;33m(\u001b[0m\u001b[0mf3\u001b[0m\u001b[1;33m)\u001b[0m\u001b[1;33m\u001b[0m\u001b[0m\n\u001b[0;32m     10\u001b[0m \u001b[1;33m\u001b[0m\u001b[0m\n\u001b[1;32m---> 11\u001b[1;33m \u001b[0mmasterlist\u001b[0m \u001b[1;33m=\u001b[0m \u001b[0mlist\u001b[0m\u001b[1;33m(\u001b[0m\u001b[0mc2\u001b[0m\u001b[1;33m)\u001b[0m\u001b[1;33m\u001b[0m\u001b[0m\n\u001b[0m\u001b[0;32m     12\u001b[0m \u001b[1;33m\u001b[0m\u001b[0m\n\u001b[0;32m     13\u001b[0m \u001b[1;32mfor\u001b[0m \u001b[0mhosts_row\u001b[0m \u001b[1;32min\u001b[0m \u001b[0mc1\u001b[0m\u001b[1;33m:\u001b[0m\u001b[1;33m\u001b[0m\u001b[0m\n",
      "\u001b[1;32mC:\\ProgramData\\Anaconda3\\lib\\encodings\\cp1252.py\u001b[0m in \u001b[0;36mdecode\u001b[1;34m(self, input, final)\u001b[0m\n\u001b[0;32m     21\u001b[0m \u001b[1;32mclass\u001b[0m \u001b[0mIncrementalDecoder\u001b[0m\u001b[1;33m(\u001b[0m\u001b[0mcodecs\u001b[0m\u001b[1;33m.\u001b[0m\u001b[0mIncrementalDecoder\u001b[0m\u001b[1;33m)\u001b[0m\u001b[1;33m:\u001b[0m\u001b[1;33m\u001b[0m\u001b[0m\n\u001b[0;32m     22\u001b[0m     \u001b[1;32mdef\u001b[0m \u001b[0mdecode\u001b[0m\u001b[1;33m(\u001b[0m\u001b[0mself\u001b[0m\u001b[1;33m,\u001b[0m \u001b[0minput\u001b[0m\u001b[1;33m,\u001b[0m \u001b[0mfinal\u001b[0m\u001b[1;33m=\u001b[0m\u001b[1;32mFalse\u001b[0m\u001b[1;33m)\u001b[0m\u001b[1;33m:\u001b[0m\u001b[1;33m\u001b[0m\u001b[0m\n\u001b[1;32m---> 23\u001b[1;33m         \u001b[1;32mreturn\u001b[0m \u001b[0mcodecs\u001b[0m\u001b[1;33m.\u001b[0m\u001b[0mcharmap_decode\u001b[0m\u001b[1;33m(\u001b[0m\u001b[0minput\u001b[0m\u001b[1;33m,\u001b[0m\u001b[0mself\u001b[0m\u001b[1;33m.\u001b[0m\u001b[0merrors\u001b[0m\u001b[1;33m,\u001b[0m\u001b[0mdecoding_table\u001b[0m\u001b[1;33m)\u001b[0m\u001b[1;33m[\u001b[0m\u001b[1;36m0\u001b[0m\u001b[1;33m]\u001b[0m\u001b[1;33m\u001b[0m\u001b[0m\n\u001b[0m\u001b[0;32m     24\u001b[0m \u001b[1;33m\u001b[0m\u001b[0m\n\u001b[0;32m     25\u001b[0m \u001b[1;32mclass\u001b[0m \u001b[0mStreamWriter\u001b[0m\u001b[1;33m(\u001b[0m\u001b[0mCodec\u001b[0m\u001b[1;33m,\u001b[0m\u001b[0mcodecs\u001b[0m\u001b[1;33m.\u001b[0m\u001b[0mStreamWriter\u001b[0m\u001b[1;33m)\u001b[0m\u001b[1;33m:\u001b[0m\u001b[1;33m\u001b[0m\u001b[0m\n",
      "\u001b[1;31mUnicodeDecodeError\u001b[0m: 'charmap' codec can't decode byte 0x81 in position 22: character maps to <undefined>"
     ]
    }
   ],
   "source": [
    "import csv\n",
    "\n",
    "f1 = open(\"/Users/GowdaK3/Documents/Documents_Kavya/Python/test1.csv\", \"r\")\n",
    "f2 = open(\"/Users/GowdaK3/Documents/Documents_Kavya/Python/test2.csv\", \"r\")\n",
    "f3 = open(\"/Users/GowdaK3/Documents/Documents_Kavya/Python/results.csv\", \"w\")\n",
    "\n",
    "c1 = csv.reader(f1)\n",
    "c2 = csv.reader(f2)\n",
    "c3 = csv.writer(f3)\n",
    "\n",
    "masterlist = list(c2)\n",
    "\n",
    "for hosts_row in c1:\n",
    "    row = 1\n",
    "    found = False\n",
    "    for master_row in masterlist:\n",
    "        results_row = hosts_row\n",
    "        if hosts_row[3] == master_row[1]:\n",
    "            results_row.append('FOUND in master list (row ' + str(row) + ')')\n",
    "            found = True\n",
    "            break\n",
    "        row = row + 1\n",
    "    if not found:\n",
    "        results_row.append('NOT FOUND in master list')\n",
    "    c3.writerow(results_row)\n",
    "\n",
    "f1.close()\n",
    "f2.close()\n",
    "f3.close()"
   ]
  },
  {
   "cell_type": "code",
   "execution_count": 48,
   "metadata": {},
   "outputs": [],
   "source": [
    "myfile = open(\"/Users/GowdaK3/Documents/Documents_Kavya/Python/test1.csv\",\"r\") #returns file handle\n",
    "myfile.read() # reading from the file\n",
    "myfile.close() # closing the file handle, to release the resources. "
   ]
  },
  {
   "cell_type": "code",
   "execution_count": 61,
   "metadata": {},
   "outputs": [],
   "source": [
    "import csv\n",
    "f1 = open(\"/Users/GowdaK3/Documents/Documents_Kavya/Python/test1.csv\", \"r\")\n",
    "c1 = csv.reader(f1)"
   ]
  },
  {
   "cell_type": "code",
   "execution_count": 86,
   "metadata": {},
   "outputs": [
    {
     "name": "stdout",
     "output_type": "stream",
     "text": [
      "\"Name\tSirname\"\n",
      "\"Kavya\tGowda\"\n",
      "\"Satyam\tBarmase\"\n",
      "\"Bhargav\tSutapalli\"\n",
      "Sharath\n",
      "\n"
     ]
    }
   ],
   "source": [
    "with open(\"test1.csv\", \"r\") as t1, open(\"test3.csv\", \"r\") as t2:\n",
    "    fileone = t1.readlines()\n",
    "    filetwo = t2.readlines()\n",
    "\n",
    "with open('update.csv', 'w') as outFile:\n",
    "    for line in filetwo:\n",
    "        if line not in fileone:\n",
    "            outFile.write(line)\n",
    "            \n",
    "print(open('update.csv').read())"
   ]
  },
  {
   "cell_type": "code",
   "execution_count": 87,
   "metadata": {},
   "outputs": [
    {
     "name": "stdout",
     "output_type": "stream",
     "text": [
      "This is line 1\n",
      "\n",
      "This is line 2\n",
      "\n",
      "This is line 3\n",
      "\n",
      "This is line 4\n",
      "\n",
      "This is line 5\n",
      "\n",
      "This is line 6\n",
      "\n",
      "This is line 7\n",
      "\n",
      "This is line 8\n",
      "\n",
      "This is line 9\n",
      "\n",
      "This is line 10\n",
      "\n",
      "\n"
     ]
    }
   ],
   "source": [
    "f= open(\"test.txt\",\"w+\", encoding=\"utf8\")\n",
    "for i in range(10):\n",
    "     f.write(\"This is line %d\\r\\n\" % (i+1))\n",
    "f.close()\n",
    "print(open('test.txt').read())"
   ]
  },
  {
   "cell_type": "code",
   "execution_count": 73,
   "metadata": {},
   "outputs": [
    {
     "data": {
      "text/plain": [
       "'C:\\\\Users\\\\GowdaK3\\\\Documents\\\\Documents_Kavya\\\\Python'"
      ]
     },
     "execution_count": 73,
     "metadata": {},
     "output_type": "execute_result"
    }
   ],
   "source": [
    "pwd"
   ]
  },
  {
   "cell_type": "code",
   "execution_count": 90,
   "metadata": {},
   "outputs": [
    {
     "name": "stdout",
     "output_type": "stream",
     "text": [
      "\"Name\tSirname\"\n",
      "\"Kavya\tGowda\"\n",
      "\"Satyam\tBarmase\"\n",
      "\"Bhargav\tSutapalli\"\n",
      "\n"
     ]
    }
   ],
   "source": [
    "import csv\n",
    "f1 = open('test1.csv', 'r')\n",
    "f2 = open('test3.csv', 'r')\n",
    "\n",
    "fileone = f1.readlines()\n",
    "filetwo = f2.readlines()\n",
    "f1.close()\n",
    "f2.close()\n",
    "\n",
    "outFile = open('update.csv', 'w')\n",
    "x = 0\n",
    "for i in fileone:\n",
    "    if i != filetwo[x]:\n",
    "        outFile.write(filetwo[x])\n",
    "    x += 1\n",
    "outFile.close()\n",
    "\n",
    "print(open('update.csv').read())\n"
   ]
  },
  {
   "cell_type": "markdown",
   "metadata": {},
   "source": [
    "# "
   ]
  },
  {
   "cell_type": "code",
   "execution_count": 92,
   "metadata": {},
   "outputs": [
    {
     "name": "stdout",
     "output_type": "stream",
     "text": [
      "\"Name\tSirname\"\n",
      "\"Kavya\tGowda\"\n",
      "\"Satyam\tBarmase\"\n",
      "\"Bhargav\tSutapalli\"\n",
      "Sharath\n",
      "\n"
     ]
    }
   ],
   "source": [
    "print(open('test3.csv').read())"
   ]
  },
  {
   "cell_type": "code",
   "execution_count": 93,
   "metadata": {},
   "outputs": [],
   "source": [
    "input_file1 = \"test1.csv\"\n",
    "input_file2 = \"test3.csv\"\n",
    "output_path = \"output.csv\"\n",
    "\n",
    "with open(input_file1) as fin1:\n",
    "  with open(input_file2) as fin2:\n",
    "    read1 = csv.reader(fin1)\n",
    "    read2 = csv.reader(fin2)\n",
    "    diff_rows = (row1 for row1, row2 in zip(read1, read2) if row1 != row2)\n",
    "    with open(output_path, 'w') as fout:\n",
    "      writer = csv.writer(fout)\n",
    "      writer.writerows(diff_rows)"
   ]
  },
  {
   "cell_type": "code",
   "execution_count": 94,
   "metadata": {},
   "outputs": [
    {
     "name": "stdout",
     "output_type": "stream",
     "text": [
      "\n"
     ]
    }
   ],
   "source": [
    "print(open('output.csv').read())"
   ]
  },
  {
   "cell_type": "code",
   "execution_count": 95,
   "metadata": {},
   "outputs": [
    {
     "name": "stdout",
     "output_type": "stream",
     "text": [
      "\n",
      "The following command must be run outside of the IPython shell:\n",
      "\n",
      "    $ pip install csvdiff\n",
      "\n",
      "The Python package manager (pip) can only be used from outside of IPython.\n",
      "Please reissue the `pip` command in a separate terminal or command prompt.\n",
      "\n",
      "See the Python documentation for more information on how to install packages:\n",
      "\n",
      "    https://docs.python.org/3/installing/\n"
     ]
    }
   ],
   "source": [
    "pip install csvdiff"
   ]
  },
  {
   "cell_type": "code",
   "execution_count": 98,
   "metadata": {},
   "outputs": [
    {
     "name": "stdout",
     "output_type": "stream",
     "text": [
      "- Name\n",
      "+ \"Name\n",
      "? +\n",
      "\n",
      "- Sirname\n",
      "+ Sirname\"\n",
      "?        +\n",
      "\n",
      "- Kavya\n",
      "+ \"Kavya\n",
      "? +\n",
      "\n",
      "- Gowda\n",
      "+ Gowda\"\n",
      "?      +\n",
      "\n",
      "- Satyam\n",
      "+ \"Satyam\n",
      "? +\n",
      "\n",
      "- Barmase\n",
      "+ Barmase\"\n",
      "?        +\n",
      "\n",
      "- Bhargav\n",
      "+ \"Bhargav\n",
      "? +\n",
      "\n",
      "- Sutapalli\n",
      "+ Sutapalli\"\n",
      "?          +\n",
      "\n",
      "+ Sharath\n"
     ]
    }
   ],
   "source": [
    "import os\n",
    "import difflib\n",
    "f=open('test1.csv','r')  #open a file\n",
    "f1=open('test3.csv','r') #open another file to compare\n",
    "str1=f.read()\n",
    "str2=f1.read()\n",
    "str1=str1.split()  #split the words in file by default through the spce\n",
    "str2=str2.split()\n",
    "d=difflib.Differ()     # compare and just print\n",
    "diff=list(d.compare(str1,str2))\n",
    "print('\\n'.join(diff))"
   ]
  },
  {
   "cell_type": "code",
   "execution_count": null,
   "metadata": {},
   "outputs": [],
   "source": []
  }
 ],
 "metadata": {
  "kernelspec": {
   "display_name": "Python 3",
   "language": "python",
   "name": "python3"
  },
  "language_info": {
   "codemirror_mode": {
    "name": "ipython",
    "version": 3
   },
   "file_extension": ".py",
   "mimetype": "text/x-python",
   "name": "python",
   "nbconvert_exporter": "python",
   "pygments_lexer": "ipython3",
   "version": "3.6.5"
  }
 },
 "nbformat": 4,
 "nbformat_minor": 2
}
