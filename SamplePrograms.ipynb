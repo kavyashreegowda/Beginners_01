{
 "cells": [
  {
   "cell_type": "code",
   "execution_count": 14,
   "metadata": {},
   "outputs": [
    {
     "name": "stdout",
     "output_type": "stream",
     "text": [
      "{'a': 22, 'b': 44, 'c': 77}\n",
      "{'a': 22, 'b': 44, 'c': 77}\n",
      "{'y': 33, 'u': 88}\n",
      "('y', 33)\n",
      "('u', 88)\n",
      "('d', 'BLANK')\n"
     ]
    }
   ],
   "source": [
    "# Dictionary and error\n",
    "\n",
    "a = ['a','b','c']\n",
    "b = [22,44,77]\n",
    "\n",
    "# access the dictionary\n",
    "#method 1\n",
    "\n",
    "print({ a[i]:b[i] for i in range(len(a))})\n",
    "\n",
    "#method 2\n",
    "\n",
    "print( dict(zip(a,b)))\n",
    "\n",
    "# error\n",
    "h = ['y','u','d']\n",
    "k = [33,88]\n",
    "print(dict(zip(h,k))) # it is missing the 3rd key as value is not specified \n",
    "\n",
    "# Solution by using fillvalue and import from itertools \n",
    "from itertools import zip_longest\n",
    "d2 = zip_longest( h,k, fillvalue = 'BLANK')\n",
    "for i in d2:\n",
    "    print(i)\n"
   ]
  },
  {
   "cell_type": "code",
   "execution_count": 31,
   "metadata": {},
   "outputs": [
    {
     "name": "stdout",
     "output_type": "stream",
     "text": [
      "NOT a prime\n"
     ]
    }
   ],
   "source": [
    "# prime number\n",
    "def check_prime(num):\n",
    "    if num > 1:\n",
    "        for i in range(2,num):\n",
    "            if num%i == 0:\n",
    "                print(\"NOT a prime\")\n",
    "                break\n",
    "            else:\n",
    "                print(\"Prime num\")\n",
    "\n",
    "check_prime(4)\n"
   ]
  },
  {
   "cell_type": "code",
   "execution_count": 20,
   "metadata": {},
   "outputs": [
    {
     "name": "stdout",
     "output_type": "stream",
     "text": [
      "2\n",
      "3\n",
      "5\n",
      "7\n",
      "11\n",
      "13\n",
      "17\n",
      "19\n"
     ]
    }
   ],
   "source": [
    "# print a series of prime numbers\n",
    "for num in range(0,20):\n",
    "        if num > 1:\n",
    "            for i in range(2,num):\n",
    "                if num%i ==0:\n",
    "                    break\n",
    "            else:\n",
    "                print(num)"
   ]
  },
  {
   "cell_type": "code",
   "execution_count": 42,
   "metadata": {},
   "outputs": [
    {
     "name": "stdout",
     "output_type": "stream",
     "text": [
      "[6, 8]\n"
     ]
    },
    {
     "data": {
      "text/plain": [
       "{3}"
      ]
     },
     "execution_count": 42,
     "metadata": {},
     "output_type": "execute_result"
    }
   ],
   "source": [
    "# Find the missing number in a order\n",
    "#using bitwise operator ^\n",
    "\n",
    "a=[1,2,3,4,5,7,9,10]\n",
    "b = [ x for x in range(a[0], a[-1]+1)]\n",
    "a = set(a)\n",
    "print(list(a^set(b)))\n",
    "\n",
    "#using - operator\n",
    "a = [1,2,4,5]\n",
    "set(range(a[0],len(a))) - set(a)"
   ]
  },
  {
   "cell_type": "code",
   "execution_count": 45,
   "metadata": {},
   "outputs": [
    {
     "data": {
      "text/plain": [
       "[3, 4]"
      ]
     },
     "execution_count": 45,
     "metadata": {},
     "output_type": "execute_result"
    }
   ],
   "source": [
    "# find the duplicates numbers in a list\n",
    "# method 1\n",
    "def find_dup(num):\n",
    "    dup = []\n",
    "    length = len(num)\n",
    "    for i in range(length):\n",
    "        k = i + 1\n",
    "        for j in range(k,length):\n",
    "            if num[i] == num[j] and num[i] not in dup:\n",
    "                dup.append(num[i])\n",
    "    return dup\n",
    "\n",
    "find_dup([1,3,4,6,3,2,4])"
   ]
  },
  {
   "cell_type": "code",
   "execution_count": 52,
   "metadata": {},
   "outputs": [
    {
     "data": {
      "text/plain": [
       "[1, 3, 4, 5, 6, 7, 8, 2]"
      ]
     },
     "execution_count": 52,
     "metadata": {},
     "output_type": "execute_result"
    }
   ],
   "source": [
    "# method 2\n",
    "def duplicat(l):\n",
    "    uniq_l = []\n",
    "    for i in l:\n",
    "        if i not in uniq_l:\n",
    "            uniq_l.append(i)\n",
    "        else:\n",
    "            print(i)\n",
    "    return uniq_l\n",
    "\n",
    "duplicat([1,3,4,5,6,7,8,6,4,3,2,1])\n",
    "            "
   ]
  },
  {
   "cell_type": "code",
   "execution_count": 55,
   "metadata": {},
   "outputs": [
    {
     "data": {
      "text/plain": [
       "[1, 3, 4, 5, 6, 7, 8, 2]"
      ]
     },
     "execution_count": 55,
     "metadata": {},
     "output_type": "execute_result"
    }
   ],
   "source": [
    "# display uniq numbers without using set\n",
    "def duplicat(l):\n",
    "    uniq_l = []\n",
    "    for i in l:\n",
    "        if i not in uniq_l:\n",
    "            uniq_l.append(i)\n",
    "    return uniq_l\n",
    "\n",
    "duplicat([1,3,4,5,6,7,8,6,4,3,2,1])"
   ]
  },
  {
   "cell_type": "code",
   "execution_count": 75,
   "metadata": {},
   "outputs": [
    {
     "name": "stdout",
     "output_type": "stream",
     "text": [
      "Even numbers in a list [0, 2, 4, 6, 8]\n",
      "Odd numbers in a list [1, 3, 5, 7, 9]\n"
     ]
    }
   ],
   "source": [
    "# seperate the even and odd numbers\n",
    "\n",
    "def SepEO(num):\n",
    "    E =[]\n",
    "    O =[]\n",
    "    for i in range(0,num):\n",
    "        if i%2 == 0:\n",
    "            E.append(i)\n",
    "        else:\n",
    "            O.append(i)\n",
    "    print(\"Even numbers in a list\",list(E))\n",
    "    print(\"Odd numbers in a list\",list(O))\n",
    "\n",
    "SepEO(10)"
   ]
  },
  {
   "cell_type": "code",
   "execution_count": 76,
   "metadata": {},
   "outputs": [
    {
     "name": "stdout",
     "output_type": "stream",
     "text": [
      "Even numbers in a list [10, 6, 4, 2, 4, 6]\n",
      "Odd numbers in a list [5, 3, 1, 5, 67, 7]\n"
     ]
    }
   ],
   "source": [
    "def SepEO(num):\n",
    "    E =[]\n",
    "    O =[]\n",
    "    for i in num:\n",
    "        if i%2 == 0:\n",
    "            E.append(i)\n",
    "        else:\n",
    "            O.append(i)\n",
    "    print(\"Even numbers in a list\",list(E))\n",
    "    print(\"Odd numbers in a list\",list(O))\n",
    "\n",
    "SepEO([10,6,5,4,3,2,1,4,5,6,67,7])"
   ]
  },
  {
   "cell_type": "code",
   "execution_count": 86,
   "metadata": {},
   "outputs": [
    {
     "name": "stdout",
     "output_type": "stream",
     "text": [
      "Number of small letters: 9\n",
      "Number of capital letters: 1\n"
     ]
    }
   ],
   "source": [
    "# count the capital letters in a string\n",
    "def cap(string):\n",
    "    small=0\n",
    "    capi =0\n",
    "    for i in string:\n",
    "        if(i.islower()):\n",
    "            small = small +1\n",
    "        elif(i.isupper()):\n",
    "            capi = capi+1\n",
    "    print(\"Number of small letters:\",small)\n",
    "    print(\"Number of capital letters:\",capi)\n",
    "\n",
    "cap('kavya Shree')"
   ]
  },
  {
   "cell_type": "code",
   "execution_count": 89,
   "metadata": {},
   "outputs": [
    {
     "data": {
      "text/plain": [
       "1"
      ]
     },
     "execution_count": 89,
     "metadata": {},
     "output_type": "execute_result"
    }
   ],
   "source": [
    "#using map\n",
    "def n_lower_chars(string):\n",
    "    return sum(map(str.isupper, string))\n",
    "\n",
    "n_lower_chars('Kavya')S"
   ]
  },
  {
   "cell_type": "code",
   "execution_count": 93,
   "metadata": {},
   "outputs": [
    {
     "data": {
      "text/plain": [
       "[True, False, False, False, False]"
      ]
     },
     "execution_count": 93,
     "metadata": {},
     "output_type": "execute_result"
    }
   ],
   "source": [
    "def n_lower_chars(string):\n",
    "    return list(map(str.isupper, string))\n",
    "\n",
    "n_lower_chars('Kavya')"
   ]
  },
  {
   "cell_type": "code",
   "execution_count": 99,
   "metadata": {},
   "outputs": [
    {
     "name": "stdout",
     "output_type": "stream",
     "text": [
      "Capital Letters:  2\n"
     ]
    }
   ],
   "source": [
    "message = \"KavyaShree\"\n",
    "\n",
    "print(\"Capital Letters: \", sum(1 for c in message if c.isupper()))"
   ]
  },
  {
   "cell_type": "code",
   "execution_count": 106,
   "metadata": {},
   "outputs": [
    {
     "name": "stdout",
     "output_type": "stream",
     "text": [
      "Capital letters: 2\n",
      "['N', 'S']\n",
      "Small letters: 9\n",
      "['a', 'm', 'e', 'i', 'r', 'n', 'a', 'm', 'e']\n",
      "Number of WhiteSpaces: 0\n",
      "Number of Digits: 0\n",
      "[]\n"
     ]
    }
   ],
   "source": [
    "#without using string built-in methods\n",
    "\n",
    "def main():\n",
    "    u = 0\n",
    "    l = 0\n",
    "    w = 0\n",
    "    d = 0\n",
    "    u_l = []\n",
    "    l_l = []\n",
    "    d_l = []\n",
    "    uppercase =['A','B','C','D','E','F','G','H','I','J','K','L','M','N','O','P','Q','R','S','T','U','V','W','X','Y','Z']\n",
    "    lowercase = ['a','b','c','d','e','f','g','h','i','j','k','l','m','n','o','p','q','r','s','t','u','v','w','x','y','z']\n",
    "    digits = ['0','1','2','3','4','5','6','7','8','9']\n",
    "    whitespace = [' ']\n",
    "    \n",
    "    #string = 'Kavya Shree Gowda 1993'\n",
    "    f = open(\"test1.csv\", 'r')\n",
    "    string = f.readline()\n",
    "    f.close()\n",
    "    \n",
    "    for char in string:\n",
    "        if char in uppercase:\n",
    "            u = u+1\n",
    "            u_l.append(char)\n",
    "        elif char in lowercase:\n",
    "            l = l+1\n",
    "            l_l.append(char)\n",
    "        elif char in digits:\n",
    "            d = d+1\n",
    "            d_l.append(char)\n",
    "        elif char in whitespace:\n",
    "            w = w+1\n",
    "    print(\"Capital letters:\",+u)\n",
    "    print(u_l)\n",
    "    print(\"Small letters:\",+l)\n",
    "    print(l_l)\n",
    "    print(\"Number of WhiteSpaces:\",+w)\n",
    "    print(\"Number of Digits:\",+d)\n",
    "    print(d_l)\n",
    "\n",
    "main()"
   ]
  },
  {
   "cell_type": "code",
   "execution_count": 121,
   "metadata": {},
   "outputs": [
    {
     "name": "stdout",
     "output_type": "stream",
     "text": [
      "Lower case: 9\n",
      "Upper case: 2\n",
      "White spaces: 2\n",
      "Digits: 0\n"
     ]
    }
   ],
   "source": [
    "#using builtin method\n",
    "\n",
    "def main():\n",
    "    lower,upper,white,dig=0,0,0,0\n",
    "    #f = \"Kavya is a Good Girl\"\n",
    "    f = open(\"test1.csv\", 'r')\n",
    "    string = f.readline()\n",
    "    f.close()\n",
    "\n",
    "    for char in string:\n",
    "        if char.islower():\n",
    "            lower +=1\n",
    "        elif char.isupper():\n",
    "            upper +=1\n",
    "        elif char.isdigit():\n",
    "            dig +=1\n",
    "        elif char.isspace():\n",
    "            white +=1\n",
    "    print(\"Lower case:\",+lower)\n",
    "    print(\"Upper case:\",+upper)\n",
    "    print(\"White spaces:\",+white)\n",
    "    print(\"Digits:\",+dig)\n",
    "    \n",
    "\n",
    "main()"
   ]
  },
  {
   "cell_type": "code",
   "execution_count": 131,
   "metadata": {},
   "outputs": [
    {
     "name": "stdout",
     "output_type": "stream",
     "text": [
      "[1, 2, 3, 4, 5, 8]\n",
      "1\n",
      "8\n"
     ]
    }
   ],
   "source": [
    "# Find the min and max value in a list\n",
    "def min_max():\n",
    "    n = [4,1,5,8,2,3]\n",
    "    n.sort()\n",
    "    print(n)\n",
    "    print(n[0])\n",
    "    print(n[-1])\n",
    "min_max()\n",
    "    "
   ]
  },
  {
   "cell_type": "code",
   "execution_count": 137,
   "metadata": {},
   "outputs": [
    {
     "name": "stdout",
     "output_type": "stream",
     "text": [
      "[-34, -2, -1, 3, 4, 6, 7, 8]\n",
      "-34\n",
      "8\n"
     ]
    }
   ],
   "source": [
    "def min_max(num):\n",
    "    num.sort()\n",
    "    print(num)\n",
    "    print(num[0])\n",
    "    print(num[-1])\n",
    "\n",
    "min_max([-1,6,7,8,-2,-34,3,4])"
   ]
  },
  {
   "cell_type": "code",
   "execution_count": 142,
   "metadata": {},
   "outputs": [
    {
     "data": {
      "text/plain": [
       "(4, 55)"
      ]
     },
     "execution_count": 142,
     "metadata": {},
     "output_type": "execute_result"
    }
   ],
   "source": [
    "def m_m(n):\n",
    "    m = n[0]\n",
    "    mm = n[-1]\n",
    "    for i in range(1,len(n)):\n",
    "        if n[i] < m :\n",
    "            m = n[i]\n",
    "        elif n[i] > mm:\n",
    "            mm = n[i]\n",
    "    return(m,mm)\n",
    "    \n",
    "\n",
    "m_m([9,55,44,33,22,6,4])\n",
    "        "
   ]
  },
  {
   "cell_type": "code",
   "execution_count": 144,
   "metadata": {},
   "outputs": [
    {
     "name": "stdout",
     "output_type": "stream",
     "text": [
      "ayvaK\n",
      "[32, 5, 8, 7, 6, 4, 3, 1]\n"
     ]
    }
   ],
   "source": [
    "# reverse a string/num\n",
    "\n",
    "a = 'Kavya'\n",
    "print(a[::-1])\n",
    "\n",
    "n = [1,3,4,6,7,8,5,32]\n",
    "print(n[::-1])"
   ]
  },
  {
   "cell_type": "code",
   "execution_count": 154,
   "metadata": {},
   "outputs": [
    {
     "name": "stdout",
     "output_type": "stream",
     "text": [
      "Yes it is a Polindrome\n"
     ]
    }
   ],
   "source": [
    "# check polindrome\n",
    "# a = 'Nayan'\n",
    "a = [1,2,3,2,1]\n",
    "if a == a[::-1]:\n",
    "    print(\"Yes it is a Polindrome\")\n",
    "else:\n",
    "    print(\"No it is not a Polindrome\")"
   ]
  },
  {
   "cell_type": "code",
   "execution_count": 9,
   "metadata": {},
   "outputs": [
    {
     "name": "stdout",
     "output_type": "stream",
     "text": [
      "21\n"
     ]
    }
   ],
   "source": [
    "#Fib series\n",
    "def fib(num):\n",
    "    if num <0:\n",
    "        print(\"Incorrect Input\")\n",
    "    elif num == 1:\n",
    "        return 0\n",
    "    elif num == 2:\n",
    "        return 1\n",
    "    else:\n",
    "        return (fib(num-1)+fib(num-2))\n",
    "        \n",
    "\n",
    "print(fib(9))"
   ]
  },
  {
   "cell_type": "code",
   "execution_count": 21,
   "metadata": {},
   "outputs": [
    {
     "name": "stdout",
     "output_type": "stream",
     "text": [
      "1\n",
      "2\n",
      "3\n",
      "\n",
      "\n",
      "3\n"
     ]
    }
   ],
   "source": [
    "def fib(n):\n",
    "    first = 0\n",
    "    second = 1\n",
    "    if n < 0:\n",
    "        print(\"Num is incorrect\")\n",
    "    elif n == 0:\n",
    "        return first\n",
    "    elif n ==1:\n",
    "        return second\n",
    "    else:\n",
    "        for i in range(2,n):\n",
    "            fib_v = first + second\n",
    "            first = second\n",
    "            second = fib_v\n",
    "            print(fib_v)\n",
    "        print(\"\\n\")\n",
    "        return fib_v\n",
    "    \n",
    "print(fib(5))"
   ]
  },
  {
   "cell_type": "code",
   "execution_count": 33,
   "metadata": {},
   "outputs": [
    {
     "name": "stdout",
     "output_type": "stream",
     "text": [
      "Not legel\n"
     ]
    }
   ],
   "source": [
    "# check given ip is correct or not\n",
    "import ipaddress\n",
    "import sys\n",
    "\n",
    "try:\n",
    "    ip = ipaddress.ip_address('192.121.11.12')\n",
    "except ValueError:\n",
    "    print(\"Invalid IP\")\n",
    "\n",
    "import socket\n",
    "try:\n",
    "    socket.inet_aton('21,121,122,12')\n",
    "except socket.error:\n",
    "    print('Not legel')\n",
    "    \n"
   ]
  },
  {
   "cell_type": "markdown",
   "metadata": {},
   "source": [
    "#map\n"
   ]
  },
  {
   "cell_type": "code",
   "execution_count": 36,
   "metadata": {},
   "outputs": [
    {
     "name": "stdout",
     "output_type": "stream",
     "text": [
      "121\n",
      "45\n",
      "55\n"
     ]
    }
   ],
   "source": [
    "#map\n",
    "from IPython.display import display\n",
    "\n",
    "words = [ '121','45','55' ]\n",
    "for i in map( int, words ):\n",
    "    print(i)"
   ]
  },
  {
   "cell_type": "code",
   "execution_count": 6,
   "metadata": {},
   "outputs": [
    {
     "data": {
      "text/plain": [
       "8"
      ]
     },
     "execution_count": 6,
     "metadata": {},
     "output_type": "execute_result"
    }
   ],
   "source": [
    "#Find the second highest;\n",
    "def sec( numbers ):\n",
    "        first,second = 0,0\n",
    "        for n in numbers:\n",
    "                if n > first:\n",
    "                        first,second = n, first\n",
    "                elif first > n > second:\n",
    "                        second = n\n",
    "        return second\n",
    "\n",
    "\n",
    "sec([ 1,4,2,3,5,6,7,8,9])"
   ]
  },
  {
   "cell_type": "code",
   "execution_count": 17,
   "metadata": {},
   "outputs": [
    {
     "data": {
      "text/plain": [
       "0"
      ]
     },
     "execution_count": 17,
     "metadata": {},
     "output_type": "execute_result"
    }
   ],
   "source": [
    "#second smallest\n",
    "\n",
    "def sec( numbers ):\n",
    "        first,second = 0,0\n",
    "        for n in numbers:\n",
    "                if n < first:\n",
    "                        first,second = n, first\n",
    "                elif first < n < second:\n",
    "                        second = n\n",
    "        return second\n",
    "\n",
    "\n",
    "sec([ 1,4,2,3,5,6,7,8,9])"
   ]
  },
  {
   "cell_type": "code",
   "execution_count": 19,
   "metadata": {},
   "outputs": [
    {
     "name": "stdout",
     "output_type": "stream",
     "text": [
      "1\n"
     ]
    }
   ],
   "source": [
    "print(min([1,4,2,3,5,6,7,8,9]))"
   ]
  },
  {
   "cell_type": "code",
   "execution_count": 24,
   "metadata": {},
   "outputs": [
    {
     "name": "stdout",
     "output_type": "stream",
     "text": [
      "8\n",
      "2\n"
     ]
    }
   ],
   "source": [
    "def sec(n):\n",
    "    n.sort()\n",
    "    print(n[-2])\n",
    "    print(n[1])\n",
    "sec([ 1,4,2,3,5,6,7,8,9])"
   ]
  },
  {
   "cell_type": "code",
   "execution_count": null,
   "metadata": {},
   "outputs": [],
   "source": []
  }
 ],
 "metadata": {
  "kernelspec": {
   "display_name": "Python 3",
   "language": "python",
   "name": "python3"
  },
  "language_info": {
   "codemirror_mode": {
    "name": "ipython",
    "version": 3
   },
   "file_extension": ".py",
   "mimetype": "text/x-python",
   "name": "python",
   "nbconvert_exporter": "python",
   "pygments_lexer": "ipython3",
   "version": "3.6.5"
  }
 },
 "nbformat": 4,
 "nbformat_minor": 2
}
