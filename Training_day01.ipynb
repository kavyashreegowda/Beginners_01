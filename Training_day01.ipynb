{
 "cells": [
  {
   "cell_type": "code",
   "execution_count": 1,
   "metadata": {},
   "outputs": [],
   "source": [
    "language=\"python\" \n",
    "inventer_name=\"Guido van Rossum\" \n",
    "year=1980"
   ]
  },
  {
   "cell_type": "code",
   "execution_count": 9,
   "metadata": {},
   "outputs": [
    {
     "name": "stdout",
     "output_type": "stream",
     "text": [
      "python was conceived in the late 1980 by Guido van Rossum\n",
      "python was conceived in the late 1980 by Guido van Rossum\n",
      "python was conceived in the late 1980 by Guido van Rossum\n",
      "python was conceived in the late 1980 by Guido van Rossum\n",
      "python was conceived in the late 1980 by Guido van Rossum\n"
     ]
    }
   ],
   "source": [
    "print(\"%s was conceived in the late %s by %s\"%(language,year,inventer_name))\n",
    "print(language,\"was conceived in the late\",year,\"by\",inventer_name)\n",
    "print(\"{} was conceived in the late {} by {}\".format(language,year,inventer_name))\n",
    "print(\"{0} was conceived in the late {1} by {2}\".format(language,year,inventer_name))\n",
    "print(f\"{language} was conceived in the late {year} by {inventer_name}\")"
   ]
  },
  {
   "cell_type": "code",
   "execution_count": 17,
   "metadata": {},
   "outputs": [
    {
     "name": "stdout",
     "output_type": "stream",
     "text": [
      "str_data str_data1\n"
     ]
    }
   ],
   "source": [
    "print('str_data ' + 'str_data1')"
   ]
  },
  {
   "cell_type": "code",
   "execution_count": 18,
   "metadata": {},
   "outputs": [
    {
     "name": "stdout",
     "output_type": "stream",
     "text": [
      "2.1\n"
     ]
    }
   ],
   "source": [
    "print( 1.1 + 1 )"
   ]
  },
  {
   "cell_type": "code",
   "execution_count": 21,
   "metadata": {},
   "outputs": [
    {
     "name": "stdout",
     "output_type": "stream",
     "text": [
      "1\n"
     ]
    }
   ],
   "source": [
    "print( False + True )"
   ]
  },
  {
   "cell_type": "code",
   "execution_count": 24,
   "metadata": {},
   "outputs": [
    {
     "data": {
      "text/plain": [
       "'a,b,c,d,e'"
      ]
     },
     "execution_count": 24,
     "metadata": {},
     "output_type": "execute_result"
    }
   ],
   "source": [
    "#Join command seperatted value to the variable: name=\"a b c d e\"\n",
    "#Expected output: \"a,b,c,d,e\"\n",
    "\n",
    "name=\"a b c d e\"\n",
    "name.replace(\" \",\",\")"
   ]
  },
  {
   "cell_type": "code",
   "execution_count": 33,
   "metadata": {},
   "outputs": [
    {
     "data": {
      "text/plain": [
       "True"
      ]
     },
     "execution_count": 33,
     "metadata": {},
     "output_type": "execute_result"
    }
   ],
   "source": [
    "#validate the string start with the string 'filter_' ? \n",
    "#input variable: filter_name and expected output: True \n",
    "\n",
    "str1 = \"filter_name\"\n",
    "str1.startswith(\"filter_\")"
   ]
  },
  {
   "cell_type": "code",
   "execution_count": 34,
   "metadata": {},
   "outputs": [
    {
     "data": {
      "text/plain": [
       "31"
      ]
     },
     "execution_count": 34,
     "metadata": {},
     "output_type": "execute_result"
    }
   ],
   "source": [
    "#find the total lenght of the string ?\n",
    "str_name =\"Here are examples of both forms\"\n",
    "len(str_name)"
   ]
  },
  {
   "cell_type": "code",
   "execution_count": 37,
   "metadata": {},
   "outputs": [
    {
     "data": {
      "text/plain": [
       "'test1test2'"
      ]
     },
     "execution_count": 37,
     "metadata": {},
     "output_type": "execute_result"
    }
   ],
   "source": [
    "# add to  two strings\n",
    "str_name_1 = 'test1'\n",
    "str_name_2 = 'test2'\n",
    "\n",
    "str_name_1 + str_name_2"
   ]
  },
  {
   "cell_type": "code",
   "execution_count": 43,
   "metadata": {},
   "outputs": [
    {
     "data": {
      "text/plain": [
       "['Name', 'Phone', 'Address']"
      ]
     },
     "execution_count": 43,
     "metadata": {},
     "output_type": "execute_result"
    }
   ],
   "source": [
    "#Split the below data\n",
    "data=\"Name,Phone,Address\"\n",
    "data.split(',')"
   ]
  },
  {
   "cell_type": "code",
   "execution_count": 45,
   "metadata": {},
   "outputs": [
    {
     "data": {
      "text/plain": [
       "6000000000.0"
      ]
     },
     "execution_count": 45,
     "metadata": {},
     "output_type": "execute_result"
    }
   ],
   "source": [
    "6e9"
   ]
  },
  {
   "cell_type": "code",
   "execution_count": null,
   "metadata": {},
   "outputs": [],
   "source": []
  }
 ],
 "metadata": {
  "kernelspec": {
   "display_name": "Python 3",
   "language": "python",
   "name": "python3"
  },
  "language_info": {
   "codemirror_mode": {
    "name": "ipython",
    "version": 3
   },
   "file_extension": ".py",
   "mimetype": "text/x-python",
   "name": "python",
   "nbconvert_exporter": "python",
   "pygments_lexer": "ipython3",
   "version": "3.6.5"
  }
 },
 "nbformat": 4,
 "nbformat_minor": 2
}
